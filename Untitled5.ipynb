{
  "nbformat": 4,
  "nbformat_minor": 0,
  "metadata": {
    "colab": {
      "name": "Untitled5.ipynb",
      "provenance": [],
      "authorship_tag": "ABX9TyPpg0R/hKorxhW6H8pyNamW",
      "include_colab_link": true
    },
    "kernelspec": {
      "name": "python3",
      "display_name": "Python 3"
    },
    "language_info": {
      "name": "python"
    }
  },
  "cells": [
    {
      "cell_type": "markdown",
      "metadata": {
        "id": "view-in-github",
        "colab_type": "text"
      },
      "source": [
        "<a href=\"https://colab.research.google.com/github/havanur-tosun/-Assignment-008-2-Covid-19-Risk-/blob/main/Untitled5.ipynb\" target=\"_parent\"><img src=\"https://colab.research.google.com/assets/colab-badge.svg\" alt=\"Open In Colab\"/></a>"
      ]
    },
    {
      "cell_type": "code",
      "metadata": {
        "colab": {
          "base_uri": "https://localhost:8080/"
        },
        "id": "mGdiRp2Z3i2R",
        "outputId": "98cf56ea-3862-4e87-e501-90d9c4053830"
      },
      "source": [
        "age =  input(\"Are you a cigarette addict older than 75 years old?:\").lower().strip() \n",
        "chronic = input(\"Do you have a severe chronic disease?:\").lower().strip()  \n",
        "immune =  input(\"Is your immune system too weak?:\").lower().strip()  \n",
        "risk =  age == \"yes\" or chronic == \"yes\" or immune == \"yes\"\n",
        "if risk:\n",
        "  risk_value = True\n",
        "else:\n",
        "  risk_value = False\n",
        "\n",
        "print(risk_value)  "
      ],
      "execution_count": 1,
      "outputs": [
        {
          "output_type": "stream",
          "text": [
            "Are you a cigarette addict older than 75 years old?:76\n",
            "Do you have a severe chronic disease?:no\n",
            "Is your immune system too weak?:no\n",
            "False\n"
          ],
          "name": "stdout"
        }
      ]
    }
  ]
}